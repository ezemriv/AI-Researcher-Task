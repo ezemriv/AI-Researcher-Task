{
 "cells": [
  {
   "cell_type": "markdown",
   "metadata": {},
   "source": [
    "# Imports"
   ]
  },
  {
   "cell_type": "code",
   "execution_count": 1,
   "metadata": {},
   "outputs": [],
   "source": [
    "import os\n",
    "import sys\n",
    "\n",
    "# root path\n",
    "ROOT = os.path.abspath(os.path.join(os.getcwd(), '..'))\n",
    "sys.path.append(ROOT)"
   ]
  },
  {
   "cell_type": "code",
   "execution_count": 10,
   "metadata": {},
   "outputs": [],
   "source": [
    "import polars as pl\n",
    "from src.config import CONFIG\n",
    "\n",
    "RAW_DATA_PATH = CONFIG.RAW_DATA_PATH\n",
    "PRO_DATA_PATH_v1 = CONFIG.PRO_DATA_PATH_v1"
   ]
  },
  {
   "cell_type": "markdown",
   "metadata": {},
   "source": [
    "# Data load and downcast"
   ]
  },
  {
   "cell_type": "code",
   "execution_count": 4,
   "metadata": {},
   "outputs": [],
   "source": [
    "df = pl.read_csv(RAW_DATA_PATH, try_parse_dates=True)"
   ]
  },
  {
   "cell_type": "code",
   "execution_count": 5,
   "metadata": {},
   "outputs": [
    {
     "data": {
      "text/plain": [
       "(420551, 15)"
      ]
     },
     "execution_count": 5,
     "metadata": {},
     "output_type": "execute_result"
    }
   ],
   "source": [
    "df.shape"
   ]
  },
  {
   "cell_type": "code",
   "execution_count": 6,
   "metadata": {},
   "outputs": [
    {
     "data": {
      "text/html": [
       "<div><style>\n",
       ".dataframe > thead > tr,\n",
       ".dataframe > tbody > tr {\n",
       "  text-align: right;\n",
       "  white-space: pre-wrap;\n",
       "}\n",
       "</style>\n",
       "<small>shape: (420_551, 15)</small><table border=\"1\" class=\"dataframe\"><thead><tr><th>Date Time</th><th>p (mbar)</th><th>T (degC)</th><th>Tpot (K)</th><th>Tdew (degC)</th><th>rh (%)</th><th>VPmax (mbar)</th><th>VPact (mbar)</th><th>VPdef (mbar)</th><th>sh (g/kg)</th><th>H2OC (mmol/mol)</th><th>rho (g/m**3)</th><th>wv (m/s)</th><th>max. wv (m/s)</th><th>wd (deg)</th></tr><tr><td>datetime[μs]</td><td>f64</td><td>f64</td><td>f64</td><td>f64</td><td>f64</td><td>f64</td><td>f64</td><td>f64</td><td>f64</td><td>f64</td><td>f64</td><td>f64</td><td>f64</td><td>f64</td></tr></thead><tbody><tr><td>2009-01-01 00:10:00</td><td>996.52</td><td>-8.02</td><td>265.4</td><td>-8.9</td><td>93.3</td><td>3.33</td><td>3.11</td><td>0.22</td><td>1.94</td><td>3.12</td><td>1307.75</td><td>1.03</td><td>1.75</td><td>152.3</td></tr><tr><td>2009-01-01 00:20:00</td><td>996.57</td><td>-8.41</td><td>265.01</td><td>-9.28</td><td>93.4</td><td>3.23</td><td>3.02</td><td>0.21</td><td>1.89</td><td>3.03</td><td>1309.8</td><td>0.72</td><td>1.5</td><td>136.1</td></tr><tr><td>2009-01-01 00:30:00</td><td>996.53</td><td>-8.51</td><td>264.91</td><td>-9.31</td><td>93.9</td><td>3.21</td><td>3.01</td><td>0.2</td><td>1.88</td><td>3.02</td><td>1310.24</td><td>0.19</td><td>0.63</td><td>171.6</td></tr><tr><td>2009-01-01 00:40:00</td><td>996.51</td><td>-8.31</td><td>265.12</td><td>-9.07</td><td>94.2</td><td>3.26</td><td>3.07</td><td>0.19</td><td>1.92</td><td>3.08</td><td>1309.19</td><td>0.34</td><td>0.5</td><td>198.0</td></tr><tr><td>2009-01-01 00:50:00</td><td>996.51</td><td>-8.27</td><td>265.15</td><td>-9.04</td><td>94.1</td><td>3.27</td><td>3.08</td><td>0.19</td><td>1.92</td><td>3.09</td><td>1309.0</td><td>0.32</td><td>0.63</td><td>214.3</td></tr><tr><td>&hellip;</td><td>&hellip;</td><td>&hellip;</td><td>&hellip;</td><td>&hellip;</td><td>&hellip;</td><td>&hellip;</td><td>&hellip;</td><td>&hellip;</td><td>&hellip;</td><td>&hellip;</td><td>&hellip;</td><td>&hellip;</td><td>&hellip;</td><td>&hellip;</td></tr><tr><td>2016-12-31 23:20:00</td><td>1000.07</td><td>-4.05</td><td>269.1</td><td>-8.13</td><td>73.1</td><td>4.52</td><td>3.3</td><td>1.22</td><td>2.06</td><td>3.3</td><td>1292.98</td><td>0.67</td><td>1.52</td><td>240.0</td></tr><tr><td>2016-12-31 23:30:00</td><td>999.93</td><td>-3.35</td><td>269.81</td><td>-8.06</td><td>69.71</td><td>4.77</td><td>3.32</td><td>1.44</td><td>2.07</td><td>3.32</td><td>1289.44</td><td>1.14</td><td>1.92</td><td>234.3</td></tr><tr><td>2016-12-31 23:40:00</td><td>999.82</td><td>-3.16</td><td>270.01</td><td>-8.21</td><td>67.91</td><td>4.84</td><td>3.28</td><td>1.55</td><td>2.05</td><td>3.28</td><td>1288.39</td><td>1.08</td><td>2.0</td><td>215.2</td></tr><tr><td>2016-12-31 23:50:00</td><td>999.81</td><td>-4.23</td><td>268.94</td><td>-8.53</td><td>71.8</td><td>4.46</td><td>3.2</td><td>1.26</td><td>1.99</td><td>3.2</td><td>1293.56</td><td>1.49</td><td>2.16</td><td>225.8</td></tr><tr><td>2017-01-01 00:00:00</td><td>999.82</td><td>-4.82</td><td>268.36</td><td>-8.42</td><td>75.7</td><td>4.27</td><td>3.23</td><td>1.04</td><td>2.01</td><td>3.23</td><td>1296.38</td><td>1.23</td><td>1.96</td><td>184.9</td></tr></tbody></table></div>"
      ],
      "text/plain": [
       "shape: (420_551, 15)\n",
       "┌──────────────┬──────────┬──────────┬──────────┬───┬──────────────┬──────────┬─────────┬──────────┐\n",
       "│ Date Time    ┆ p (mbar) ┆ T (degC) ┆ Tpot (K) ┆ … ┆ rho (g/m**3) ┆ wv (m/s) ┆ max. wv ┆ wd (deg) │\n",
       "│ ---          ┆ ---      ┆ ---      ┆ ---      ┆   ┆ ---          ┆ ---      ┆ (m/s)   ┆ ---      │\n",
       "│ datetime[μs] ┆ f64      ┆ f64      ┆ f64      ┆   ┆ f64          ┆ f64      ┆ ---     ┆ f64      │\n",
       "│              ┆          ┆          ┆          ┆   ┆              ┆          ┆ f64     ┆          │\n",
       "╞══════════════╪══════════╪══════════╪══════════╪═══╪══════════════╪══════════╪═════════╪══════════╡\n",
       "│ 2009-01-01   ┆ 996.52   ┆ -8.02    ┆ 265.4    ┆ … ┆ 1307.75      ┆ 1.03     ┆ 1.75    ┆ 152.3    │\n",
       "│ 00:10:00     ┆          ┆          ┆          ┆   ┆              ┆          ┆         ┆          │\n",
       "│ 2009-01-01   ┆ 996.57   ┆ -8.41    ┆ 265.01   ┆ … ┆ 1309.8       ┆ 0.72     ┆ 1.5     ┆ 136.1    │\n",
       "│ 00:20:00     ┆          ┆          ┆          ┆   ┆              ┆          ┆         ┆          │\n",
       "│ 2009-01-01   ┆ 996.53   ┆ -8.51    ┆ 264.91   ┆ … ┆ 1310.24      ┆ 0.19     ┆ 0.63    ┆ 171.6    │\n",
       "│ 00:30:00     ┆          ┆          ┆          ┆   ┆              ┆          ┆         ┆          │\n",
       "│ 2009-01-01   ┆ 996.51   ┆ -8.31    ┆ 265.12   ┆ … ┆ 1309.19      ┆ 0.34     ┆ 0.5     ┆ 198.0    │\n",
       "│ 00:40:00     ┆          ┆          ┆          ┆   ┆              ┆          ┆         ┆          │\n",
       "│ 2009-01-01   ┆ 996.51   ┆ -8.27    ┆ 265.15   ┆ … ┆ 1309.0       ┆ 0.32     ┆ 0.63    ┆ 214.3    │\n",
       "│ 00:50:00     ┆          ┆          ┆          ┆   ┆              ┆          ┆         ┆          │\n",
       "│ …            ┆ …        ┆ …        ┆ …        ┆ … ┆ …            ┆ …        ┆ …       ┆ …        │\n",
       "│ 2016-12-31   ┆ 1000.07  ┆ -4.05    ┆ 269.1    ┆ … ┆ 1292.98      ┆ 0.67     ┆ 1.52    ┆ 240.0    │\n",
       "│ 23:20:00     ┆          ┆          ┆          ┆   ┆              ┆          ┆         ┆          │\n",
       "│ 2016-12-31   ┆ 999.93   ┆ -3.35    ┆ 269.81   ┆ … ┆ 1289.44      ┆ 1.14     ┆ 1.92    ┆ 234.3    │\n",
       "│ 23:30:00     ┆          ┆          ┆          ┆   ┆              ┆          ┆         ┆          │\n",
       "│ 2016-12-31   ┆ 999.82   ┆ -3.16    ┆ 270.01   ┆ … ┆ 1288.39      ┆ 1.08     ┆ 2.0     ┆ 215.2    │\n",
       "│ 23:40:00     ┆          ┆          ┆          ┆   ┆              ┆          ┆         ┆          │\n",
       "│ 2016-12-31   ┆ 999.81   ┆ -4.23    ┆ 268.94   ┆ … ┆ 1293.56      ┆ 1.49     ┆ 2.16    ┆ 225.8    │\n",
       "│ 23:50:00     ┆          ┆          ┆          ┆   ┆              ┆          ┆         ┆          │\n",
       "│ 2017-01-01   ┆ 999.82   ┆ -4.82    ┆ 268.36   ┆ … ┆ 1296.38      ┆ 1.23     ┆ 1.96    ┆ 184.9    │\n",
       "│ 00:00:00     ┆          ┆          ┆          ┆   ┆              ┆          ┆         ┆          │\n",
       "└──────────────┴──────────┴──────────┴──────────┴───┴──────────────┴──────────┴─────────┴──────────┘"
      ]
     },
     "execution_count": 6,
     "metadata": {},
     "output_type": "execute_result"
    }
   ],
   "source": [
    "df"
   ]
  },
  {
   "cell_type": "code",
   "execution_count": 9,
   "metadata": {},
   "outputs": [
    {
     "name": "stdout",
     "output_type": "stream",
     "text": [
      "                        Date Time       p (mbar)       T (degC)  \\\n",
      "count                      420551  420551.000000  420551.000000   \n",
      "mean   2012-12-30 06:26:51.498724     989.212776       9.450147   \n",
      "min           2009-01-01 00:10:00     913.600000     -23.010000   \n",
      "25%           2010-12-31 03:25:00     984.200000       3.360000   \n",
      "50%           2012-12-30 06:20:00     989.580000       9.420000   \n",
      "75%           2014-12-29 18:55:00     994.720000      15.470000   \n",
      "max           2017-01-01 00:00:00    1015.350000      37.280000   \n",
      "std                           NaN       8.358481       8.423365   \n",
      "\n",
      "            Tpot (K)    Tdew (degC)         rh (%)   VPmax (mbar)  \\\n",
      "count  420551.000000  420551.000000  420551.000000  420551.000000   \n",
      "mean      283.492743       4.955854      76.008259      13.576251   \n",
      "min       250.600000     -25.010000      12.950000       0.950000   \n",
      "25%       277.430000       0.240000      65.210000       7.780000   \n",
      "50%       283.470000       5.220000      79.300000      11.820000   \n",
      "75%       289.530000      10.070000      89.400000      17.600000   \n",
      "max       311.340000      23.110000     100.000000      63.770000   \n",
      "std         8.504471       6.730674      16.476175       7.739020   \n",
      "\n",
      "        VPact (mbar)   VPdef (mbar)      sh (g/kg)  H2OC (mmol/mol)  \\\n",
      "count  420551.000000  420551.000000  420551.000000    420551.000000   \n",
      "mean        9.533756       4.042412       6.022408         9.640223   \n",
      "min         0.790000       0.000000       0.500000         0.800000   \n",
      "25%         6.210000       0.870000       3.920000         6.290000   \n",
      "50%         8.860000       2.190000       5.590000         8.960000   \n",
      "75%        12.350000       5.300000       7.800000        12.490000   \n",
      "max        28.320000      46.010000      18.130000        28.820000   \n",
      "std         4.184164       4.896851       2.656139         4.235395   \n",
      "\n",
      "        rho (g/m**3)       wv (m/s)  max. wv (m/s)       wd (deg)  \n",
      "count  420551.000000  420551.000000  420551.000000  420551.000000  \n",
      "mean     1216.062748       1.702224       3.056555     174.743738  \n",
      "min      1059.450000   -9999.000000   -9999.000000       0.000000  \n",
      "25%      1187.490000       0.990000       1.760000     124.900000  \n",
      "50%      1213.790000       1.760000       2.960000     198.100000  \n",
      "75%      1242.770000       2.860000       4.740000     234.100000  \n",
      "max      1393.540000      28.490000      23.500000     360.000000  \n",
      "std        39.975208      65.446714      69.016932      86.681693  \n"
     ]
    }
   ],
   "source": [
    "print(df.to_pandas().describe())"
   ]
  }
 ],
 "metadata": {
  "kernelspec": {
   "display_name": ".venv",
   "language": "python",
   "name": "python3"
  },
  "language_info": {
   "codemirror_mode": {
    "name": "ipython",
    "version": 3
   },
   "file_extension": ".py",
   "mimetype": "text/x-python",
   "name": "python",
   "nbconvert_exporter": "python",
   "pygments_lexer": "ipython3",
   "version": "3.12.9"
  }
 },
 "nbformat": 4,
 "nbformat_minor": 2
}
