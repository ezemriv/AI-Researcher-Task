{
 "cells": [
  {
   "cell_type": "markdown",
   "metadata": {},
   "source": [
    "# Imports"
   ]
  },
  {
   "cell_type": "code",
   "execution_count": null,
   "metadata": {},
   "outputs": [],
   "source": [
    "import os\n",
    "import sys\n",
    "\n",
    "# root path\n",
    "ROOT = os.path.abspath(os.path.join(os.getcwd(), '..'))\n",
    "sys.path.append(ROOT)\n",
    "\n",
    "import polars as pl\n",
    "import matplotlib.pyplot as plt\n",
    "from src.config import CONFIG\n",
    "\n",
    "RAW_DATA_PATH = CONFIG.RAW_DATA_PATH\n",
    "PRO_DATA_PATH_v1 = CONFIG.PRO_DATA_PATH_v1"
   ]
  },
  {
   "cell_type": "markdown",
   "metadata": {},
   "source": [
    "# Data load, downcast, drop outliers"
   ]
  },
  {
   "cell_type": "code",
   "execution_count": null,
   "metadata": {},
   "outputs": [],
   "source": [
    "# def load_raw_data_save(read_path, save_path):\n",
    "#     df = pl.read_csv(read_path, try_parse_dates=True)\n",
    "\n",
    "#     df = df.with_columns([\n",
    "#         pl.col(col).cast(pl.Float32, strict=False) for col in df.columns if col != \"Date Time\"\n",
    "#     ])\n",
    "\n",
    "#     df.sort(\"Date Time\").write_parquet(save_path)\n",
    "\n",
    "#     # Convert to NaN to later impute\n",
    "#     df = df.with_columns([\n",
    "#         pl.col(\"wv (m/s)\").replace(-9999, None),\n",
    "#         pl.col(\"max. wv (m/s)\").replace(-9999, None)\n",
    "#     ])\n",
    "\n",
    "#     return df\n",
    "\n",
    "# df = load_raw_data_save(RAW_DATA_PATH, PRO_DATA_PATH_v1)"
   ]
  },
  {
   "cell_type": "code",
   "execution_count": 4,
   "metadata": {},
   "outputs": [],
   "source": [
    "df = pl.read_parquet(PRO_DATA_PATH_v1)"
   ]
  },
  {
   "cell_type": "markdown",
   "metadata": {},
   "source": [
    "# Random "
   ]
  }
 ],
 "metadata": {
  "kernelspec": {
   "display_name": ".venv",
   "language": "python",
   "name": "python3"
  },
  "language_info": {
   "codemirror_mode": {
    "name": "ipython",
    "version": 3
   },
   "file_extension": ".py",
   "mimetype": "text/x-python",
   "name": "python",
   "nbconvert_exporter": "python",
   "pygments_lexer": "ipython3",
   "version": "3.12.9"
  }
 },
 "nbformat": 4,
 "nbformat_minor": 2
}
