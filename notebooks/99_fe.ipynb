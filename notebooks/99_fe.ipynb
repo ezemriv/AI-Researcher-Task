{
 "cells": [
  {
   "cell_type": "markdown",
   "metadata": {},
   "source": [
    "#### **2. Should I Engineer More Features?**\n",
    "Yes, feature engineering will **greatly improve** both imputation and state identification. From the dataset description, adding time-based features makes sense.\n",
    "\n",
    "**Suggested Features:**\n",
    "- **Basic Time Features:**\n",
    "  - `year`, `month`, `day`, `hour`, `minute`\n",
    "  - `day_of_week` (0=Monday, 6=Sunday)\n",
    "  - `is_weekend` (binary)\n",
    "\n",
    "- **Cyclical Features (for time-based seasonality):**\n",
    "  Since time is cyclic (e.g., months repeat every year), it's better to use sine and cosine transformations:\n",
    "  - `hour_sin = sin(2 * π * hour / 24)`\n",
    "  - `hour_cos = cos(2 * π * hour / 24)`\n",
    "  - `month_sin = sin(2 * π * month / 12)`\n",
    "  - `month_cos = cos(2 * π * month / 12)`\n",
    "\n",
    "- **Weather Context Features:**\n",
    "  - `temp_diff` = `T (degC)` - `Tdew (degC)` (captures humidity effects)\n",
    "  - `pressure_change` = `p (mbar)` - `lag_1(p (mbar))`\n",
    "  - `wind_speed_change` = `wv (m/s)` - `lag_1(wv (m/s))`\n",
    "  \n",
    "These additional features help both **imputation** and **state modeling**.\n"
   ]
  }
 ],
 "metadata": {
  "language_info": {
   "name": "python"
  }
 },
 "nbformat": 4,
 "nbformat_minor": 2
}
